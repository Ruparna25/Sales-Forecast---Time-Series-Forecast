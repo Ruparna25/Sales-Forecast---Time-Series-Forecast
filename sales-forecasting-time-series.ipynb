{
 "cells": [
  {
   "cell_type": "code",
   "execution_count": 1,
   "id": "d8a493fb",
   "metadata": {
    "_cell_guid": "b1076dfc-b9ad-4769-8c92-a6c4dae69d19",
    "_uuid": "8f2839f25d086af736a60e9eeb907d3b93b6e0e5",
    "execution": {
     "iopub.execute_input": "2022-01-08T03:57:55.431780Z",
     "iopub.status.busy": "2022-01-08T03:57:55.430311Z",
     "iopub.status.idle": "2022-01-08T03:57:55.439381Z",
     "shell.execute_reply": "2022-01-08T03:57:55.439809Z",
     "shell.execute_reply.started": "2022-01-08T03:31:24.370136Z"
    },
    "papermill": {
     "duration": 0.029743,
     "end_time": "2022-01-08T03:57:55.440017",
     "exception": false,
     "start_time": "2022-01-08T03:57:55.410274",
     "status": "completed"
    },
    "tags": []
   },
   "outputs": [],
   "source": [
    "import pandas as pd"
   ]
  },
  {
   "cell_type": "code",
   "execution_count": 2,
   "id": "dd2e1663",
   "metadata": {
    "execution": {
     "iopub.execute_input": "2022-01-08T03:57:55.477076Z",
     "iopub.status.busy": "2022-01-08T03:57:55.476462Z",
     "iopub.status.idle": "2022-01-08T03:57:58.619429Z",
     "shell.execute_reply": "2022-01-08T03:57:58.618954Z",
     "shell.execute_reply.started": "2022-01-08T03:31:24.378182Z"
    },
    "papermill": {
     "duration": 3.161607,
     "end_time": "2022-01-08T03:57:58.619560",
     "exception": false,
     "start_time": "2022-01-08T03:57:55.457953",
     "status": "completed"
    },
    "tags": []
   },
   "outputs": [],
   "source": [
    "train=pd.read_csv('../input/store-sales-time-series-forecasting/train.csv')"
   ]
  },
  {
   "cell_type": "code",
   "execution_count": 3,
   "id": "acfb12c8",
   "metadata": {
    "execution": {
     "iopub.execute_input": "2022-01-08T03:57:58.671190Z",
     "iopub.status.busy": "2022-01-08T03:57:58.670519Z",
     "iopub.status.idle": "2022-01-08T03:57:58.674067Z",
     "shell.execute_reply": "2022-01-08T03:57:58.674695Z",
     "shell.execute_reply.started": "2022-01-08T03:31:27.639725Z"
    },
    "papermill": {
     "duration": 0.039454,
     "end_time": "2022-01-08T03:57:58.674883",
     "exception": false,
     "start_time": "2022-01-08T03:57:58.635429",
     "status": "completed"
    },
    "tags": []
   },
   "outputs": [
    {
     "name": "stdout",
     "output_type": "stream",
     "text": [
      "<class 'pandas.core.frame.DataFrame'>\n",
      "RangeIndex: 3000888 entries, 0 to 3000887\n",
      "Data columns (total 6 columns):\n",
      " #   Column       Dtype  \n",
      "---  ------       -----  \n",
      " 0   id           int64  \n",
      " 1   date         object \n",
      " 2   store_nbr    int64  \n",
      " 3   family       object \n",
      " 4   sales        float64\n",
      " 5   onpromotion  int64  \n",
      "dtypes: float64(1), int64(3), object(2)\n",
      "memory usage: 137.4+ MB\n"
     ]
    }
   ],
   "source": [
    "train.info()"
   ]
  },
  {
   "cell_type": "code",
   "execution_count": 4,
   "id": "62feb407",
   "metadata": {
    "execution": {
     "iopub.execute_input": "2022-01-08T03:57:58.711371Z",
     "iopub.status.busy": "2022-01-08T03:57:58.710846Z",
     "iopub.status.idle": "2022-01-08T03:57:58.717950Z",
     "shell.execute_reply": "2022-01-08T03:57:58.717500Z",
     "shell.execute_reply.started": "2022-01-08T03:31:27.669238Z"
    },
    "papermill": {
     "duration": 0.025689,
     "end_time": "2022-01-08T03:57:58.718056",
     "exception": false,
     "start_time": "2022-01-08T03:57:58.692367",
     "status": "completed"
    },
    "tags": []
   },
   "outputs": [],
   "source": [
    "stores=pd.read_csv('../input/store-sales-time-series-forecasting/stores.csv')"
   ]
  },
  {
   "cell_type": "code",
   "execution_count": 5,
   "id": "54de4d3a",
   "metadata": {
    "execution": {
     "iopub.execute_input": "2022-01-08T03:57:58.758439Z",
     "iopub.status.busy": "2022-01-08T03:57:58.754853Z",
     "iopub.status.idle": "2022-01-08T03:57:58.766854Z",
     "shell.execute_reply": "2022-01-08T03:57:58.766376Z",
     "shell.execute_reply.started": "2022-01-08T03:31:27.690432Z"
    },
    "papermill": {
     "duration": 0.033166,
     "end_time": "2022-01-08T03:57:58.767001",
     "exception": false,
     "start_time": "2022-01-08T03:57:58.733835",
     "status": "completed"
    },
    "tags": []
   },
   "outputs": [
    {
     "data": {
      "text/html": [
       "<div>\n",
       "<style scoped>\n",
       "    .dataframe tbody tr th:only-of-type {\n",
       "        vertical-align: middle;\n",
       "    }\n",
       "\n",
       "    .dataframe tbody tr th {\n",
       "        vertical-align: top;\n",
       "    }\n",
       "\n",
       "    .dataframe thead th {\n",
       "        text-align: right;\n",
       "    }\n",
       "</style>\n",
       "<table border=\"1\" class=\"dataframe\">\n",
       "  <thead>\n",
       "    <tr style=\"text-align: right;\">\n",
       "      <th></th>\n",
       "      <th>store_nbr</th>\n",
       "      <th>city</th>\n",
       "      <th>state</th>\n",
       "      <th>type</th>\n",
       "      <th>cluster</th>\n",
       "    </tr>\n",
       "  </thead>\n",
       "  <tbody>\n",
       "    <tr>\n",
       "      <th>0</th>\n",
       "      <td>1</td>\n",
       "      <td>Quito</td>\n",
       "      <td>Pichincha</td>\n",
       "      <td>D</td>\n",
       "      <td>13</td>\n",
       "    </tr>\n",
       "    <tr>\n",
       "      <th>1</th>\n",
       "      <td>2</td>\n",
       "      <td>Quito</td>\n",
       "      <td>Pichincha</td>\n",
       "      <td>D</td>\n",
       "      <td>13</td>\n",
       "    </tr>\n",
       "    <tr>\n",
       "      <th>2</th>\n",
       "      <td>3</td>\n",
       "      <td>Quito</td>\n",
       "      <td>Pichincha</td>\n",
       "      <td>D</td>\n",
       "      <td>8</td>\n",
       "    </tr>\n",
       "    <tr>\n",
       "      <th>3</th>\n",
       "      <td>4</td>\n",
       "      <td>Quito</td>\n",
       "      <td>Pichincha</td>\n",
       "      <td>D</td>\n",
       "      <td>9</td>\n",
       "    </tr>\n",
       "    <tr>\n",
       "      <th>4</th>\n",
       "      <td>5</td>\n",
       "      <td>Santo Domingo</td>\n",
       "      <td>Santo Domingo de los Tsachilas</td>\n",
       "      <td>D</td>\n",
       "      <td>4</td>\n",
       "    </tr>\n",
       "  </tbody>\n",
       "</table>\n",
       "</div>"
      ],
      "text/plain": [
       "   store_nbr           city                           state type  cluster\n",
       "0          1          Quito                       Pichincha    D       13\n",
       "1          2          Quito                       Pichincha    D       13\n",
       "2          3          Quito                       Pichincha    D        8\n",
       "3          4          Quito                       Pichincha    D        9\n",
       "4          5  Santo Domingo  Santo Domingo de los Tsachilas    D        4"
      ]
     },
     "execution_count": 5,
     "metadata": {},
     "output_type": "execute_result"
    }
   ],
   "source": [
    "stores.head()"
   ]
  },
  {
   "cell_type": "code",
   "execution_count": 6,
   "id": "afa8976c",
   "metadata": {
    "execution": {
     "iopub.execute_input": "2022-01-08T03:57:58.809025Z",
     "iopub.status.busy": "2022-01-08T03:57:58.808458Z",
     "iopub.status.idle": "2022-01-08T03:57:58.812418Z",
     "shell.execute_reply": "2022-01-08T03:57:58.813205Z",
     "shell.execute_reply.started": "2022-01-08T03:31:27.715450Z"
    },
    "papermill": {
     "duration": 0.030374,
     "end_time": "2022-01-08T03:57:58.813349",
     "exception": false,
     "start_time": "2022-01-08T03:57:58.782975",
     "status": "completed"
    },
    "tags": []
   },
   "outputs": [
    {
     "name": "stdout",
     "output_type": "stream",
     "text": [
      "<class 'pandas.core.frame.DataFrame'>\n",
      "RangeIndex: 54 entries, 0 to 53\n",
      "Data columns (total 5 columns):\n",
      " #   Column     Non-Null Count  Dtype \n",
      "---  ------     --------------  ----- \n",
      " 0   store_nbr  54 non-null     int64 \n",
      " 1   city       54 non-null     object\n",
      " 2   state      54 non-null     object\n",
      " 3   type       54 non-null     object\n",
      " 4   cluster    54 non-null     int64 \n",
      "dtypes: int64(2), object(3)\n",
      "memory usage: 2.2+ KB\n"
     ]
    }
   ],
   "source": [
    "stores.info()"
   ]
  },
  {
   "cell_type": "code",
   "execution_count": 7,
   "id": "3ae64549",
   "metadata": {
    "execution": {
     "iopub.execute_input": "2022-01-08T03:57:58.850044Z",
     "iopub.status.busy": "2022-01-08T03:57:58.849540Z",
     "iopub.status.idle": "2022-01-08T03:57:58.857289Z",
     "shell.execute_reply": "2022-01-08T03:57:58.856877Z",
     "shell.execute_reply.started": "2022-01-08T03:31:27.735648Z"
    },
    "papermill": {
     "duration": 0.027828,
     "end_time": "2022-01-08T03:57:58.857396",
     "exception": false,
     "start_time": "2022-01-08T03:57:58.829568",
     "status": "completed"
    },
    "tags": []
   },
   "outputs": [],
   "source": [
    "oil=pd.read_csv('../input/store-sales-time-series-forecasting/oil.csv')"
   ]
  },
  {
   "cell_type": "code",
   "execution_count": 8,
   "id": "42a3f10c",
   "metadata": {
    "execution": {
     "iopub.execute_input": "2022-01-08T03:57:58.897273Z",
     "iopub.status.busy": "2022-01-08T03:57:58.891884Z",
     "iopub.status.idle": "2022-01-08T03:57:58.902397Z",
     "shell.execute_reply": "2022-01-08T03:57:58.901973Z",
     "shell.execute_reply.started": "2022-01-08T03:31:27.753121Z"
    },
    "papermill": {
     "duration": 0.028629,
     "end_time": "2022-01-08T03:57:58.902495",
     "exception": false,
     "start_time": "2022-01-08T03:57:58.873866",
     "status": "completed"
    },
    "tags": []
   },
   "outputs": [
    {
     "data": {
      "text/html": [
       "<div>\n",
       "<style scoped>\n",
       "    .dataframe tbody tr th:only-of-type {\n",
       "        vertical-align: middle;\n",
       "    }\n",
       "\n",
       "    .dataframe tbody tr th {\n",
       "        vertical-align: top;\n",
       "    }\n",
       "\n",
       "    .dataframe thead th {\n",
       "        text-align: right;\n",
       "    }\n",
       "</style>\n",
       "<table border=\"1\" class=\"dataframe\">\n",
       "  <thead>\n",
       "    <tr style=\"text-align: right;\">\n",
       "      <th></th>\n",
       "      <th>date</th>\n",
       "      <th>dcoilwtico</th>\n",
       "    </tr>\n",
       "  </thead>\n",
       "  <tbody>\n",
       "    <tr>\n",
       "      <th>0</th>\n",
       "      <td>2013-01-01</td>\n",
       "      <td>NaN</td>\n",
       "    </tr>\n",
       "    <tr>\n",
       "      <th>1</th>\n",
       "      <td>2013-01-02</td>\n",
       "      <td>93.14</td>\n",
       "    </tr>\n",
       "    <tr>\n",
       "      <th>2</th>\n",
       "      <td>2013-01-03</td>\n",
       "      <td>92.97</td>\n",
       "    </tr>\n",
       "    <tr>\n",
       "      <th>3</th>\n",
       "      <td>2013-01-04</td>\n",
       "      <td>93.12</td>\n",
       "    </tr>\n",
       "    <tr>\n",
       "      <th>4</th>\n",
       "      <td>2013-01-07</td>\n",
       "      <td>93.20</td>\n",
       "    </tr>\n",
       "  </tbody>\n",
       "</table>\n",
       "</div>"
      ],
      "text/plain": [
       "         date  dcoilwtico\n",
       "0  2013-01-01         NaN\n",
       "1  2013-01-02       93.14\n",
       "2  2013-01-03       92.97\n",
       "3  2013-01-04       93.12\n",
       "4  2013-01-07       93.20"
      ]
     },
     "execution_count": 8,
     "metadata": {},
     "output_type": "execute_result"
    }
   ],
   "source": [
    "oil.head()"
   ]
  },
  {
   "cell_type": "code",
   "execution_count": 9,
   "id": "0982d57e",
   "metadata": {
    "execution": {
     "iopub.execute_input": "2022-01-08T03:57:58.945468Z",
     "iopub.status.busy": "2022-01-08T03:57:58.942174Z",
     "iopub.status.idle": "2022-01-08T03:57:58.949213Z",
     "shell.execute_reply": "2022-01-08T03:57:58.949606Z",
     "shell.execute_reply.started": "2022-01-08T03:31:27.768663Z"
    },
    "papermill": {
     "duration": 0.030254,
     "end_time": "2022-01-08T03:57:58.949733",
     "exception": false,
     "start_time": "2022-01-08T03:57:58.919479",
     "status": "completed"
    },
    "tags": []
   },
   "outputs": [
    {
     "name": "stdout",
     "output_type": "stream",
     "text": [
      "<class 'pandas.core.frame.DataFrame'>\n",
      "RangeIndex: 1218 entries, 0 to 1217\n",
      "Data columns (total 2 columns):\n",
      " #   Column      Non-Null Count  Dtype  \n",
      "---  ------      --------------  -----  \n",
      " 0   date        1218 non-null   object \n",
      " 1   dcoilwtico  1175 non-null   float64\n",
      "dtypes: float64(1), object(1)\n",
      "memory usage: 19.2+ KB\n"
     ]
    }
   ],
   "source": [
    "oil.info()"
   ]
  },
  {
   "cell_type": "code",
   "execution_count": 10,
   "id": "a97495b4",
   "metadata": {
    "execution": {
     "iopub.execute_input": "2022-01-08T03:57:58.987322Z",
     "iopub.status.busy": "2022-01-08T03:57:58.985340Z",
     "iopub.status.idle": "2022-01-08T03:57:58.995170Z",
     "shell.execute_reply": "2022-01-08T03:57:58.994698Z",
     "shell.execute_reply.started": "2022-01-08T03:31:27.789113Z"
    },
    "papermill": {
     "duration": 0.028325,
     "end_time": "2022-01-08T03:57:58.995269",
     "exception": false,
     "start_time": "2022-01-08T03:57:58.966944",
     "status": "completed"
    },
    "tags": []
   },
   "outputs": [],
   "source": [
    "holiday=pd.read_csv('../input/store-sales-time-series-forecasting/holidays_events.csv')"
   ]
  },
  {
   "cell_type": "code",
   "execution_count": 11,
   "id": "7969213d",
   "metadata": {
    "execution": {
     "iopub.execute_input": "2022-01-08T03:57:59.038173Z",
     "iopub.status.busy": "2022-01-08T03:57:59.037652Z",
     "iopub.status.idle": "2022-01-08T03:57:59.042775Z",
     "shell.execute_reply": "2022-01-08T03:57:59.042363Z",
     "shell.execute_reply.started": "2022-01-08T03:31:27.807967Z"
    },
    "papermill": {
     "duration": 0.030014,
     "end_time": "2022-01-08T03:57:59.042884",
     "exception": false,
     "start_time": "2022-01-08T03:57:59.012870",
     "status": "completed"
    },
    "tags": []
   },
   "outputs": [
    {
     "data": {
      "text/html": [
       "<div>\n",
       "<style scoped>\n",
       "    .dataframe tbody tr th:only-of-type {\n",
       "        vertical-align: middle;\n",
       "    }\n",
       "\n",
       "    .dataframe tbody tr th {\n",
       "        vertical-align: top;\n",
       "    }\n",
       "\n",
       "    .dataframe thead th {\n",
       "        text-align: right;\n",
       "    }\n",
       "</style>\n",
       "<table border=\"1\" class=\"dataframe\">\n",
       "  <thead>\n",
       "    <tr style=\"text-align: right;\">\n",
       "      <th></th>\n",
       "      <th>date</th>\n",
       "      <th>type</th>\n",
       "      <th>locale</th>\n",
       "      <th>locale_name</th>\n",
       "      <th>description</th>\n",
       "      <th>transferred</th>\n",
       "    </tr>\n",
       "  </thead>\n",
       "  <tbody>\n",
       "    <tr>\n",
       "      <th>0</th>\n",
       "      <td>2012-03-02</td>\n",
       "      <td>Holiday</td>\n",
       "      <td>Local</td>\n",
       "      <td>Manta</td>\n",
       "      <td>Fundacion de Manta</td>\n",
       "      <td>False</td>\n",
       "    </tr>\n",
       "    <tr>\n",
       "      <th>1</th>\n",
       "      <td>2012-04-01</td>\n",
       "      <td>Holiday</td>\n",
       "      <td>Regional</td>\n",
       "      <td>Cotopaxi</td>\n",
       "      <td>Provincializacion de Cotopaxi</td>\n",
       "      <td>False</td>\n",
       "    </tr>\n",
       "    <tr>\n",
       "      <th>2</th>\n",
       "      <td>2012-04-12</td>\n",
       "      <td>Holiday</td>\n",
       "      <td>Local</td>\n",
       "      <td>Cuenca</td>\n",
       "      <td>Fundacion de Cuenca</td>\n",
       "      <td>False</td>\n",
       "    </tr>\n",
       "    <tr>\n",
       "      <th>3</th>\n",
       "      <td>2012-04-14</td>\n",
       "      <td>Holiday</td>\n",
       "      <td>Local</td>\n",
       "      <td>Libertad</td>\n",
       "      <td>Cantonizacion de Libertad</td>\n",
       "      <td>False</td>\n",
       "    </tr>\n",
       "    <tr>\n",
       "      <th>4</th>\n",
       "      <td>2012-04-21</td>\n",
       "      <td>Holiday</td>\n",
       "      <td>Local</td>\n",
       "      <td>Riobamba</td>\n",
       "      <td>Cantonizacion de Riobamba</td>\n",
       "      <td>False</td>\n",
       "    </tr>\n",
       "  </tbody>\n",
       "</table>\n",
       "</div>"
      ],
      "text/plain": [
       "         date     type    locale locale_name                    description  \\\n",
       "0  2012-03-02  Holiday     Local       Manta             Fundacion de Manta   \n",
       "1  2012-04-01  Holiday  Regional    Cotopaxi  Provincializacion de Cotopaxi   \n",
       "2  2012-04-12  Holiday     Local      Cuenca            Fundacion de Cuenca   \n",
       "3  2012-04-14  Holiday     Local    Libertad      Cantonizacion de Libertad   \n",
       "4  2012-04-21  Holiday     Local    Riobamba      Cantonizacion de Riobamba   \n",
       "\n",
       "   transferred  \n",
       "0        False  \n",
       "1        False  \n",
       "2        False  \n",
       "3        False  \n",
       "4        False  "
      ]
     },
     "execution_count": 11,
     "metadata": {},
     "output_type": "execute_result"
    }
   ],
   "source": [
    "holiday.head()"
   ]
  },
  {
   "cell_type": "code",
   "execution_count": 12,
   "id": "a074ce66",
   "metadata": {
    "execution": {
     "iopub.execute_input": "2022-01-08T03:57:59.086843Z",
     "iopub.status.busy": "2022-01-08T03:57:59.086318Z",
     "iopub.status.idle": "2022-01-08T03:57:59.090777Z",
     "shell.execute_reply": "2022-01-08T03:57:59.091355Z",
     "shell.execute_reply.started": "2022-01-08T03:31:27.827436Z"
    },
    "papermill": {
     "duration": 0.031565,
     "end_time": "2022-01-08T03:57:59.091521",
     "exception": false,
     "start_time": "2022-01-08T03:57:59.059956",
     "status": "completed"
    },
    "tags": []
   },
   "outputs": [
    {
     "name": "stdout",
     "output_type": "stream",
     "text": [
      "<class 'pandas.core.frame.DataFrame'>\n",
      "RangeIndex: 350 entries, 0 to 349\n",
      "Data columns (total 6 columns):\n",
      " #   Column       Non-Null Count  Dtype \n",
      "---  ------       --------------  ----- \n",
      " 0   date         350 non-null    object\n",
      " 1   type         350 non-null    object\n",
      " 2   locale       350 non-null    object\n",
      " 3   locale_name  350 non-null    object\n",
      " 4   description  350 non-null    object\n",
      " 5   transferred  350 non-null    bool  \n",
      "dtypes: bool(1), object(5)\n",
      "memory usage: 14.1+ KB\n"
     ]
    }
   ],
   "source": [
    "holiday.info()"
   ]
  },
  {
   "cell_type": "code",
   "execution_count": 13,
   "id": "5ef91d92",
   "metadata": {
    "execution": {
     "iopub.execute_input": "2022-01-08T03:57:59.138798Z",
     "iopub.status.busy": "2022-01-08T03:57:59.137664Z",
     "iopub.status.idle": "2022-01-08T03:57:59.140909Z",
     "shell.execute_reply": "2022-01-08T03:57:59.141351Z",
     "shell.execute_reply.started": "2022-01-08T03:31:27.846618Z"
    },
    "papermill": {
     "duration": 0.030819,
     "end_time": "2022-01-08T03:57:59.141469",
     "exception": false,
     "start_time": "2022-01-08T03:57:59.110650",
     "status": "completed"
    },
    "tags": []
   },
   "outputs": [
    {
     "data": {
      "text/html": [
       "<div>\n",
       "<style scoped>\n",
       "    .dataframe tbody tr th:only-of-type {\n",
       "        vertical-align: middle;\n",
       "    }\n",
       "\n",
       "    .dataframe tbody tr th {\n",
       "        vertical-align: top;\n",
       "    }\n",
       "\n",
       "    .dataframe thead th {\n",
       "        text-align: right;\n",
       "    }\n",
       "</style>\n",
       "<table border=\"1\" class=\"dataframe\">\n",
       "  <thead>\n",
       "    <tr style=\"text-align: right;\">\n",
       "      <th></th>\n",
       "      <th>id</th>\n",
       "      <th>date</th>\n",
       "      <th>store_nbr</th>\n",
       "      <th>family</th>\n",
       "      <th>sales</th>\n",
       "      <th>onpromotion</th>\n",
       "    </tr>\n",
       "  </thead>\n",
       "  <tbody>\n",
       "    <tr>\n",
       "      <th>0</th>\n",
       "      <td>0</td>\n",
       "      <td>2013-01-01</td>\n",
       "      <td>1</td>\n",
       "      <td>AUTOMOTIVE</td>\n",
       "      <td>0.0</td>\n",
       "      <td>0</td>\n",
       "    </tr>\n",
       "    <tr>\n",
       "      <th>1</th>\n",
       "      <td>1</td>\n",
       "      <td>2013-01-01</td>\n",
       "      <td>1</td>\n",
       "      <td>BABY CARE</td>\n",
       "      <td>0.0</td>\n",
       "      <td>0</td>\n",
       "    </tr>\n",
       "    <tr>\n",
       "      <th>2</th>\n",
       "      <td>2</td>\n",
       "      <td>2013-01-01</td>\n",
       "      <td>1</td>\n",
       "      <td>BEAUTY</td>\n",
       "      <td>0.0</td>\n",
       "      <td>0</td>\n",
       "    </tr>\n",
       "    <tr>\n",
       "      <th>3</th>\n",
       "      <td>3</td>\n",
       "      <td>2013-01-01</td>\n",
       "      <td>1</td>\n",
       "      <td>BEVERAGES</td>\n",
       "      <td>0.0</td>\n",
       "      <td>0</td>\n",
       "    </tr>\n",
       "    <tr>\n",
       "      <th>4</th>\n",
       "      <td>4</td>\n",
       "      <td>2013-01-01</td>\n",
       "      <td>1</td>\n",
       "      <td>BOOKS</td>\n",
       "      <td>0.0</td>\n",
       "      <td>0</td>\n",
       "    </tr>\n",
       "  </tbody>\n",
       "</table>\n",
       "</div>"
      ],
      "text/plain": [
       "   id        date  store_nbr      family  sales  onpromotion\n",
       "0   0  2013-01-01          1  AUTOMOTIVE    0.0            0\n",
       "1   1  2013-01-01          1   BABY CARE    0.0            0\n",
       "2   2  2013-01-01          1      BEAUTY    0.0            0\n",
       "3   3  2013-01-01          1   BEVERAGES    0.0            0\n",
       "4   4  2013-01-01          1       BOOKS    0.0            0"
      ]
     },
     "execution_count": 13,
     "metadata": {},
     "output_type": "execute_result"
    }
   ],
   "source": [
    "train.head()"
   ]
  },
  {
   "cell_type": "code",
   "execution_count": 14,
   "id": "f0182f49",
   "metadata": {
    "execution": {
     "iopub.execute_input": "2022-01-08T03:57:59.188529Z",
     "iopub.status.busy": "2022-01-08T03:57:59.187750Z",
     "iopub.status.idle": "2022-01-08T03:57:59.302310Z",
     "shell.execute_reply": "2022-01-08T03:57:59.302742Z",
     "shell.execute_reply.started": "2022-01-08T03:31:27.867640Z"
    },
    "papermill": {
     "duration": 0.1432,
     "end_time": "2022-01-08T03:57:59.302901",
     "exception": false,
     "start_time": "2022-01-08T03:57:59.159701",
     "status": "completed"
    },
    "tags": []
   },
   "outputs": [
    {
     "data": {
      "text/html": [
       "<div>\n",
       "<style scoped>\n",
       "    .dataframe tbody tr th:only-of-type {\n",
       "        vertical-align: middle;\n",
       "    }\n",
       "\n",
       "    .dataframe tbody tr th {\n",
       "        vertical-align: top;\n",
       "    }\n",
       "\n",
       "    .dataframe thead th {\n",
       "        text-align: right;\n",
       "    }\n",
       "</style>\n",
       "<table border=\"1\" class=\"dataframe\">\n",
       "  <thead>\n",
       "    <tr style=\"text-align: right;\">\n",
       "      <th></th>\n",
       "      <th>id</th>\n",
       "      <th>date</th>\n",
       "      <th>store_nbr</th>\n",
       "      <th>family</th>\n",
       "      <th>sales</th>\n",
       "      <th>onpromotion</th>\n",
       "    </tr>\n",
       "  </thead>\n",
       "  <tbody>\n",
       "    <tr>\n",
       "      <th>563</th>\n",
       "      <td>563</td>\n",
       "      <td>2013-01-01</td>\n",
       "      <td>25</td>\n",
       "      <td>BEAUTY</td>\n",
       "      <td>2.000</td>\n",
       "      <td>0</td>\n",
       "    </tr>\n",
       "    <tr>\n",
       "      <th>564</th>\n",
       "      <td>564</td>\n",
       "      <td>2013-01-01</td>\n",
       "      <td>25</td>\n",
       "      <td>BEVERAGES</td>\n",
       "      <td>810.000</td>\n",
       "      <td>0</td>\n",
       "    </tr>\n",
       "    <tr>\n",
       "      <th>566</th>\n",
       "      <td>566</td>\n",
       "      <td>2013-01-01</td>\n",
       "      <td>25</td>\n",
       "      <td>BREAD/BAKERY</td>\n",
       "      <td>180.589</td>\n",
       "      <td>0</td>\n",
       "    </tr>\n",
       "    <tr>\n",
       "      <th>568</th>\n",
       "      <td>568</td>\n",
       "      <td>2013-01-01</td>\n",
       "      <td>25</td>\n",
       "      <td>CLEANING</td>\n",
       "      <td>186.000</td>\n",
       "      <td>0</td>\n",
       "    </tr>\n",
       "    <tr>\n",
       "      <th>569</th>\n",
       "      <td>569</td>\n",
       "      <td>2013-01-01</td>\n",
       "      <td>25</td>\n",
       "      <td>DAIRY</td>\n",
       "      <td>143.000</td>\n",
       "      <td>0</td>\n",
       "    </tr>\n",
       "    <tr>\n",
       "      <th>...</th>\n",
       "      <td>...</td>\n",
       "      <td>...</td>\n",
       "      <td>...</td>\n",
       "      <td>...</td>\n",
       "      <td>...</td>\n",
       "      <td>...</td>\n",
       "    </tr>\n",
       "    <tr>\n",
       "      <th>3000883</th>\n",
       "      <td>3000883</td>\n",
       "      <td>2017-08-15</td>\n",
       "      <td>9</td>\n",
       "      <td>POULTRY</td>\n",
       "      <td>438.133</td>\n",
       "      <td>0</td>\n",
       "    </tr>\n",
       "    <tr>\n",
       "      <th>3000884</th>\n",
       "      <td>3000884</td>\n",
       "      <td>2017-08-15</td>\n",
       "      <td>9</td>\n",
       "      <td>PREPARED FOODS</td>\n",
       "      <td>154.553</td>\n",
       "      <td>1</td>\n",
       "    </tr>\n",
       "    <tr>\n",
       "      <th>3000885</th>\n",
       "      <td>3000885</td>\n",
       "      <td>2017-08-15</td>\n",
       "      <td>9</td>\n",
       "      <td>PRODUCE</td>\n",
       "      <td>2419.729</td>\n",
       "      <td>148</td>\n",
       "    </tr>\n",
       "    <tr>\n",
       "      <th>3000886</th>\n",
       "      <td>3000886</td>\n",
       "      <td>2017-08-15</td>\n",
       "      <td>9</td>\n",
       "      <td>SCHOOL AND OFFICE SUPPLIES</td>\n",
       "      <td>121.000</td>\n",
       "      <td>8</td>\n",
       "    </tr>\n",
       "    <tr>\n",
       "      <th>3000887</th>\n",
       "      <td>3000887</td>\n",
       "      <td>2017-08-15</td>\n",
       "      <td>9</td>\n",
       "      <td>SEAFOOD</td>\n",
       "      <td>16.000</td>\n",
       "      <td>0</td>\n",
       "    </tr>\n",
       "  </tbody>\n",
       "</table>\n",
       "<p>2061758 rows × 6 columns</p>\n",
       "</div>"
      ],
      "text/plain": [
       "              id        date  store_nbr                      family     sales  \\\n",
       "563          563  2013-01-01         25                      BEAUTY     2.000   \n",
       "564          564  2013-01-01         25                   BEVERAGES   810.000   \n",
       "566          566  2013-01-01         25                BREAD/BAKERY   180.589   \n",
       "568          568  2013-01-01         25                    CLEANING   186.000   \n",
       "569          569  2013-01-01         25                       DAIRY   143.000   \n",
       "...          ...         ...        ...                         ...       ...   \n",
       "3000883  3000883  2017-08-15          9                     POULTRY   438.133   \n",
       "3000884  3000884  2017-08-15          9              PREPARED FOODS   154.553   \n",
       "3000885  3000885  2017-08-15          9                     PRODUCE  2419.729   \n",
       "3000886  3000886  2017-08-15          9  SCHOOL AND OFFICE SUPPLIES   121.000   \n",
       "3000887  3000887  2017-08-15          9                     SEAFOOD    16.000   \n",
       "\n",
       "         onpromotion  \n",
       "563                0  \n",
       "564                0  \n",
       "566                0  \n",
       "568                0  \n",
       "569                0  \n",
       "...              ...  \n",
       "3000883            0  \n",
       "3000884            1  \n",
       "3000885          148  \n",
       "3000886            8  \n",
       "3000887            0  \n",
       "\n",
       "[2061758 rows x 6 columns]"
      ]
     },
     "execution_count": 14,
     "metadata": {},
     "output_type": "execute_result"
    }
   ],
   "source": [
    "train[train['sales']> 0]"
   ]
  },
  {
   "cell_type": "code",
   "execution_count": 15,
   "id": "a3fd0a96",
   "metadata": {
    "execution": {
     "iopub.execute_input": "2022-01-08T03:57:59.346822Z",
     "iopub.status.busy": "2022-01-08T03:57:59.346199Z",
     "iopub.status.idle": "2022-01-08T03:57:59.349126Z",
     "shell.execute_reply": "2022-01-08T03:57:59.349522Z",
     "shell.execute_reply.started": "2022-01-08T03:31:28.019139Z"
    },
    "papermill": {
     "duration": 0.027035,
     "end_time": "2022-01-08T03:57:59.349660",
     "exception": false,
     "start_time": "2022-01-08T03:57:59.322625",
     "status": "completed"
    },
    "tags": []
   },
   "outputs": [
    {
     "data": {
      "text/plain": [
       "(3000888, 6)"
      ]
     },
     "execution_count": 15,
     "metadata": {},
     "output_type": "execute_result"
    }
   ],
   "source": [
    "train.shape"
   ]
  },
  {
   "cell_type": "code",
   "execution_count": 16,
   "id": "9e396206",
   "metadata": {
    "execution": {
     "iopub.execute_input": "2022-01-08T03:57:59.391313Z",
     "iopub.status.busy": "2022-01-08T03:57:59.390819Z",
     "iopub.status.idle": "2022-01-08T03:57:59.434778Z",
     "shell.execute_reply": "2022-01-08T03:57:59.433998Z",
     "shell.execute_reply.started": "2022-01-08T03:31:28.029114Z"
    },
    "papermill": {
     "duration": 0.065866,
     "end_time": "2022-01-08T03:57:59.434898",
     "exception": false,
     "start_time": "2022-01-08T03:57:59.369032",
     "status": "completed"
    },
    "tags": []
   },
   "outputs": [],
   "source": [
    "trans=pd.read_csv('../input/store-sales-time-series-forecasting/transactions.csv')"
   ]
  },
  {
   "cell_type": "code",
   "execution_count": 17,
   "id": "7543c2b2",
   "metadata": {
    "execution": {
     "iopub.execute_input": "2022-01-08T03:57:59.480687Z",
     "iopub.status.busy": "2022-01-08T03:57:59.480192Z",
     "iopub.status.idle": "2022-01-08T03:57:59.484250Z",
     "shell.execute_reply": "2022-01-08T03:57:59.484608Z",
     "shell.execute_reply.started": "2022-01-08T03:31:28.089792Z"
    },
    "papermill": {
     "duration": 0.030939,
     "end_time": "2022-01-08T03:57:59.484745",
     "exception": false,
     "start_time": "2022-01-08T03:57:59.453806",
     "status": "completed"
    },
    "tags": []
   },
   "outputs": [
    {
     "data": {
      "text/html": [
       "<div>\n",
       "<style scoped>\n",
       "    .dataframe tbody tr th:only-of-type {\n",
       "        vertical-align: middle;\n",
       "    }\n",
       "\n",
       "    .dataframe tbody tr th {\n",
       "        vertical-align: top;\n",
       "    }\n",
       "\n",
       "    .dataframe thead th {\n",
       "        text-align: right;\n",
       "    }\n",
       "</style>\n",
       "<table border=\"1\" class=\"dataframe\">\n",
       "  <thead>\n",
       "    <tr style=\"text-align: right;\">\n",
       "      <th></th>\n",
       "      <th>date</th>\n",
       "      <th>store_nbr</th>\n",
       "      <th>transactions</th>\n",
       "    </tr>\n",
       "  </thead>\n",
       "  <tbody>\n",
       "    <tr>\n",
       "      <th>0</th>\n",
       "      <td>2013-01-01</td>\n",
       "      <td>25</td>\n",
       "      <td>770</td>\n",
       "    </tr>\n",
       "    <tr>\n",
       "      <th>1</th>\n",
       "      <td>2013-01-02</td>\n",
       "      <td>1</td>\n",
       "      <td>2111</td>\n",
       "    </tr>\n",
       "    <tr>\n",
       "      <th>2</th>\n",
       "      <td>2013-01-02</td>\n",
       "      <td>2</td>\n",
       "      <td>2358</td>\n",
       "    </tr>\n",
       "    <tr>\n",
       "      <th>3</th>\n",
       "      <td>2013-01-02</td>\n",
       "      <td>3</td>\n",
       "      <td>3487</td>\n",
       "    </tr>\n",
       "    <tr>\n",
       "      <th>4</th>\n",
       "      <td>2013-01-02</td>\n",
       "      <td>4</td>\n",
       "      <td>1922</td>\n",
       "    </tr>\n",
       "  </tbody>\n",
       "</table>\n",
       "</div>"
      ],
      "text/plain": [
       "         date  store_nbr  transactions\n",
       "0  2013-01-01         25           770\n",
       "1  2013-01-02          1          2111\n",
       "2  2013-01-02          2          2358\n",
       "3  2013-01-02          3          3487\n",
       "4  2013-01-02          4          1922"
      ]
     },
     "execution_count": 17,
     "metadata": {},
     "output_type": "execute_result"
    }
   ],
   "source": [
    "trans.head()"
   ]
  },
  {
   "cell_type": "code",
   "execution_count": 18,
   "id": "8f592ec5",
   "metadata": {
    "execution": {
     "iopub.execute_input": "2022-01-08T03:57:59.535081Z",
     "iopub.status.busy": "2022-01-08T03:57:59.534316Z",
     "iopub.status.idle": "2022-01-08T03:57:59.543108Z",
     "shell.execute_reply": "2022-01-08T03:57:59.543672Z",
     "shell.execute_reply.started": "2022-01-08T03:31:28.104001Z"
    },
    "papermill": {
     "duration": 0.039848,
     "end_time": "2022-01-08T03:57:59.543870",
     "exception": false,
     "start_time": "2022-01-08T03:57:59.504022",
     "status": "completed"
    },
    "tags": []
   },
   "outputs": [
    {
     "name": "stdout",
     "output_type": "stream",
     "text": [
      "<class 'pandas.core.frame.DataFrame'>\n",
      "RangeIndex: 83488 entries, 0 to 83487\n",
      "Data columns (total 3 columns):\n",
      " #   Column        Non-Null Count  Dtype \n",
      "---  ------        --------------  ----- \n",
      " 0   date          83488 non-null  object\n",
      " 1   store_nbr     83488 non-null  int64 \n",
      " 2   transactions  83488 non-null  int64 \n",
      "dtypes: int64(2), object(1)\n",
      "memory usage: 1.9+ MB\n"
     ]
    }
   ],
   "source": [
    "trans.info()"
   ]
  },
  {
   "cell_type": "code",
   "execution_count": 19,
   "id": "c0a3c04c",
   "metadata": {
    "execution": {
     "iopub.execute_input": "2022-01-08T03:57:59.597073Z",
     "iopub.status.busy": "2022-01-08T03:57:59.596039Z",
     "iopub.status.idle": "2022-01-08T03:57:59.600595Z",
     "shell.execute_reply": "2022-01-08T03:57:59.599854Z",
     "shell.execute_reply.started": "2022-01-08T03:31:28.130819Z"
    },
    "papermill": {
     "duration": 0.036366,
     "end_time": "2022-01-08T03:57:59.600707",
     "exception": false,
     "start_time": "2022-01-08T03:57:59.564341",
     "status": "completed"
    },
    "tags": []
   },
   "outputs": [
    {
     "data": {
      "text/plain": [
       "'2017-08-15'"
      ]
     },
     "execution_count": 19,
     "metadata": {},
     "output_type": "execute_result"
    }
   ],
   "source": [
    "max(trans['date'])"
   ]
  },
  {
   "cell_type": "markdown",
   "id": "630098d4",
   "metadata": {
    "papermill": {
     "duration": 0.020589,
     "end_time": "2022-01-08T03:57:59.641038",
     "exception": false,
     "start_time": "2022-01-08T03:57:59.620449",
     "status": "completed"
    },
    "tags": []
   },
   "source": [
    "Some EDA to check the seasonality and product sales over different stores"
   ]
  },
  {
   "cell_type": "code",
   "execution_count": 20,
   "id": "8233ad2d",
   "metadata": {
    "execution": {
     "iopub.execute_input": "2022-01-08T03:57:59.687360Z",
     "iopub.status.busy": "2022-01-08T03:57:59.686576Z",
     "iopub.status.idle": "2022-01-08T03:57:59.698838Z",
     "shell.execute_reply": "2022-01-08T03:57:59.699208Z",
     "shell.execute_reply.started": "2022-01-08T03:40:46.479733Z"
    },
    "papermill": {
     "duration": 0.038377,
     "end_time": "2022-01-08T03:57:59.699339",
     "exception": false,
     "start_time": "2022-01-08T03:57:59.660962",
     "status": "completed"
    },
    "tags": []
   },
   "outputs": [
    {
     "data": {
      "text/html": [
       "<div>\n",
       "<style scoped>\n",
       "    .dataframe tbody tr th:only-of-type {\n",
       "        vertical-align: middle;\n",
       "    }\n",
       "\n",
       "    .dataframe tbody tr th {\n",
       "        vertical-align: top;\n",
       "    }\n",
       "\n",
       "    .dataframe thead th {\n",
       "        text-align: right;\n",
       "    }\n",
       "</style>\n",
       "<table border=\"1\" class=\"dataframe\">\n",
       "  <thead>\n",
       "    <tr style=\"text-align: right;\">\n",
       "      <th></th>\n",
       "      <th>store_nbr</th>\n",
       "      <th>transactions</th>\n",
       "    </tr>\n",
       "  </thead>\n",
       "  <tbody>\n",
       "    <tr>\n",
       "      <th>43</th>\n",
       "      <td>44</td>\n",
       "      <td>8359</td>\n",
       "    </tr>\n",
       "    <tr>\n",
       "      <th>45</th>\n",
       "      <td>46</td>\n",
       "      <td>8001</td>\n",
       "    </tr>\n",
       "    <tr>\n",
       "      <th>46</th>\n",
       "      <td>47</td>\n",
       "      <td>7727</td>\n",
       "    </tr>\n",
       "    <tr>\n",
       "      <th>44</th>\n",
       "      <td>45</td>\n",
       "      <td>7305</td>\n",
       "    </tr>\n",
       "    <tr>\n",
       "      <th>47</th>\n",
       "      <td>48</td>\n",
       "      <td>7044</td>\n",
       "    </tr>\n",
       "    <tr>\n",
       "      <th>48</th>\n",
       "      <td>49</td>\n",
       "      <td>6600</td>\n",
       "    </tr>\n",
       "    <tr>\n",
       "      <th>2</th>\n",
       "      <td>3</td>\n",
       "      <td>6085</td>\n",
       "    </tr>\n",
       "    <tr>\n",
       "      <th>49</th>\n",
       "      <td>50</td>\n",
       "      <td>5456</td>\n",
       "    </tr>\n",
       "    <tr>\n",
       "      <th>7</th>\n",
       "      <td>8</td>\n",
       "      <td>5261</td>\n",
       "    </tr>\n",
       "    <tr>\n",
       "      <th>10</th>\n",
       "      <td>11</td>\n",
       "      <td>5018</td>\n",
       "    </tr>\n",
       "  </tbody>\n",
       "</table>\n",
       "</div>"
      ],
      "text/plain": [
       "    store_nbr  transactions\n",
       "43         44          8359\n",
       "45         46          8001\n",
       "46         47          7727\n",
       "44         45          7305\n",
       "47         48          7044\n",
       "48         49          6600\n",
       "2           3          6085\n",
       "49         50          5456\n",
       "7           8          5261\n",
       "10         11          5018"
      ]
     },
     "execution_count": 20,
     "metadata": {},
     "output_type": "execute_result"
    }
   ],
   "source": [
    "import matplotlib.pyplot as plt\n",
    "#top 10 stores\n",
    "top10=trans.groupby('store_nbr',sort=True).max('transactions').reset_index()\n",
    "top10.sort_values('transactions',ascending=False).head(10)"
   ]
  },
  {
   "cell_type": "code",
   "execution_count": 21,
   "id": "4fe494aa",
   "metadata": {
    "execution": {
     "iopub.execute_input": "2022-01-08T03:57:59.748961Z",
     "iopub.status.busy": "2022-01-08T03:57:59.748254Z",
     "iopub.status.idle": "2022-01-08T03:57:59.767132Z",
     "shell.execute_reply": "2022-01-08T03:57:59.766625Z",
     "shell.execute_reply.started": "2022-01-08T03:52:04.065006Z"
    },
    "papermill": {
     "duration": 0.047423,
     "end_time": "2022-01-08T03:57:59.767240",
     "exception": false,
     "start_time": "2022-01-08T03:57:59.719817",
     "status": "completed"
    },
    "tags": []
   },
   "outputs": [
    {
     "name": "stdout",
     "output_type": "stream",
     "text": [
      "<class 'pandas.core.frame.DataFrame'>\n",
      "RangeIndex: 83488 entries, 0 to 83487\n",
      "Data columns (total 3 columns):\n",
      " #   Column        Non-Null Count  Dtype         \n",
      "---  ------        --------------  -----         \n",
      " 0   date          83488 non-null  datetime64[ns]\n",
      " 1   store_nbr     83488 non-null  int64         \n",
      " 2   transactions  83488 non-null  int64         \n",
      "dtypes: datetime64[ns](1), int64(2)\n",
      "memory usage: 1.9 MB\n"
     ]
    }
   ],
   "source": [
    "#Convert trans column date to Datetime object\n",
    "trans['date']=pd.to_datetime(trans['date'])\n",
    "trans.info()"
   ]
  },
  {
   "cell_type": "code",
   "execution_count": 22,
   "id": "a87ccb2d",
   "metadata": {
    "execution": {
     "iopub.execute_input": "2022-01-08T03:57:59.813112Z",
     "iopub.status.busy": "2022-01-08T03:57:59.812447Z",
     "iopub.status.idle": "2022-01-08T03:57:59.821361Z",
     "shell.execute_reply": "2022-01-08T03:57:59.820931Z",
     "shell.execute_reply.started": "2022-01-08T03:54:33.302231Z"
    },
    "papermill": {
     "duration": 0.033623,
     "end_time": "2022-01-08T03:57:59.821467",
     "exception": false,
     "start_time": "2022-01-08T03:57:59.787844",
     "status": "completed"
    },
    "tags": []
   },
   "outputs": [],
   "source": [
    "#Checking the transactions of store over years\n",
    "year=trans['date'].dt.year\n",
    "#trans.groupby('store_nbr')['date'.dt.year].count()"
   ]
  }
 ],
 "metadata": {
  "kernelspec": {
   "display_name": "Python 3",
   "language": "python",
   "name": "python3"
  },
  "language_info": {
   "codemirror_mode": {
    "name": "ipython",
    "version": 3
   },
   "file_extension": ".py",
   "mimetype": "text/x-python",
   "name": "python",
   "nbconvert_exporter": "python",
   "pygments_lexer": "ipython3",
   "version": "3.7.12"
  },
  "papermill": {
   "default_parameters": {},
   "duration": 12.584368,
   "end_time": "2022-01-08T03:58:00.249399",
   "environment_variables": {},
   "exception": null,
   "input_path": "__notebook__.ipynb",
   "output_path": "__notebook__.ipynb",
   "parameters": {},
   "start_time": "2022-01-08T03:57:47.665031",
   "version": "2.3.3"
  }
 },
 "nbformat": 4,
 "nbformat_minor": 5
}
